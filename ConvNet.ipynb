{
 "cells": [
  {
   "cell_type": "code",
   "execution_count": 1,
   "metadata": {
    "id": "iae6OVZKfa-R"
   },
   "outputs": [],
   "source": [
    "import os\n",
    "import sys\n",
    "import time\n",
    "import datetime\n",
    "\n",
    "import random\n",
    "import numpy as np\n",
    "import matplotlib as mpl\n",
    "import matplotlib.pyplot as plt\n",
    "%matplotlib inline\n",
    "\n",
    "import tensorflow as tf\n",
    "from tensorflow import keras\n",
    "from keras.models import Sequential, Model\n",
    "from keras.layers import Activation, Dense, Flatten, BatchNormalization, \\\n",
    "Conv2D, MaxPool2D, Dropout, Input, LeakyReLU, AveragePooling2D\n",
    "\n",
    "from keras.optimizers import Adam, SGD , RMSprop\n",
    "from keras.losses import mae, sparse_categorical_crossentropy, binary_crossentropy\n",
    "\n",
    "from keras.preprocessing.image import ImageDataGenerator\n",
    "from keras.applications.resnet import preprocess_input\n",
    "\n",
    "from keras.callbacks import ModelCheckpoint, LearningRateScheduler, EarlyStopping\n",
    "\n",
    "from keras.applications.vgg16 import VGG16\n",
    "from keras.applications.xception import Xception\n",
    "from keras.applications.resnet import ResNet50\n",
    "from keras.applications.inception_v3 import InceptionV3\n",
    "from keras.applications.inception_resnet_v2 import InceptionResNetV2\n",
    "from keras.applications.densenet import DenseNet201\n",
    "from keras.applications.nasnet import NASNetMobile, NASNetLarge\n",
    "\n",
    "import warnings\n",
    "warnings.filterwarnings('ignore')"
   ]
  },
  {
   "cell_type": "code",
   "execution_count": 2,
   "metadata": {
    "id": "30h-_veogCiQ"
   },
   "outputs": [],
   "source": [
    "def timestamp(x):\n",
    "    \n",
    "    if x==1:\n",
    "        return 'Timestamp: {:%Y-%m-%d %H:%M:%S}'.format(datetime.datetime.now())\n",
    "    if x==2:    \n",
    "        return 'Timestamp: {:%Y-%b-%d %H:%M:%S}'.format(datetime.datetime.now())\n",
    "    if x==3:  \n",
    "        return 'Date now: %s' % datetime.datetime.now()\n",
    "    if x==4:  \n",
    "        return 'Date today: %s' % datetime.date.today()  "
   ]
  },
  {
   "cell_type": "code",
   "execution_count": 3,
   "metadata": {
    "id": "iTywAXt6q8QB"
   },
   "outputs": [],
   "source": [
    "dataset_path = os.path.join(os.getcwd(), 'Dataset')\n",
    "\n",
    "train_dir = os.path.join(dataset_path, 'train')\n",
    "test_dir = os.path.join(dataset_path, 'test')\n",
    "\n",
    "#print(train_dir)"
   ]
  },
  {
   "cell_type": "code",
   "execution_count": 4,
   "metadata": {
    "id": "sBhIYY64seKA"
   },
   "outputs": [],
   "source": [
    "def plot_img(file, dirs = train_dir):\n",
    "  \n",
    "    img_path = os.path.join(dirs, file)\n",
    "    img = plt.imread(img_path)\n",
    "    #img = img.numpy().transpose((1, 2, 0))\n",
    "    plt.imshow(img, aspect = None)\n",
    "\n",
    "    plt.xticks([])\n",
    "    plt.yticks([])\n",
    "\n",
    "def img_path(dir = train_dir, count = 5):\n",
    "\n",
    "    files = random.sample(os.listdir(dir), count)\n",
    "    ncol, nrow = 5, 3\n",
    "  \n",
    "    FIGSIZE = (20, 15)\n",
    "    plt.figure(figsize=FIGSIZE)\n",
    "\n",
    "    for i, file in enumerate(files):\n",
    "        plt.subplot(nrow, ncol, i+1)\n",
    "        path = os.path.join(dir, file)\n",
    "        plot_img(file, dir)\n",
    "    plt.tight_layout()\n",
    "    plt.show()\n",
    "\n",
    "def label_path(dir = train_dir, count = 5):\n",
    "    labels = os.listdir(dir)\n",
    "    for label in labels:\n",
    "        print(label)\n",
    "        label_path = os.path.join(dir, label)\n",
    "        img_path(dir = label_path, count = 5)"
   ]
  },
  {
   "cell_type": "code",
   "execution_count": 5,
   "metadata": {
    "colab": {
     "base_uri": "https://localhost:8080/",
     "height": 686
    },
    "id": "JNdNnW9AwbB7",
    "outputId": "a3911c56-cd39-4950-940f-c176da40d113"
   },
   "outputs": [],
   "source": [
    "#label_path(train_dir, 5)"
   ]
  },
  {
   "cell_type": "code",
   "execution_count": 6,
   "metadata": {
    "id": "fAGhBTpKz-eO"
   },
   "outputs": [],
   "source": [
    "def create_data(train_path = None, test_path = None, batch_size = 64, target_size = (300, 300), class_mode = 'categorical'):\n",
    "\n",
    "    print('Creating and preprocessing data batches for training and testing!')\n",
    "    print('-' * 65)\n",
    "\n",
    "    TRAIN_BATCH_SIZE, TEST_BATCH_SIZE = batch_size, batch_size\n",
    "    RESCALE = 1.0/255\n",
    "\n",
    "    train_shuffle = True\n",
    "    val_shuffle = True\n",
    "    test_shuffle = False\n",
    "\n",
    "    train_generator = ImageDataGenerator(\n",
    "        horizontal_flip=True,\n",
    "        rotation_range=30,\n",
    "        rescale=RESCALE,\n",
    "        validation_split=0.25\n",
    "    )\n",
    "\n",
    "    test_generator = ImageDataGenerator(preprocessing_function = preprocess_input)\n",
    "\n",
    "    train_data = train_generator.flow_from_directory(\n",
    "        train_path,\n",
    "        target_size = target_size,\n",
    "        class_mode = class_mode,\n",
    "        batch_size = TRAIN_BATCH_SIZE,\n",
    "        shuffle = train_shuffle,\n",
    "        seed = 42,\n",
    "        subset = 'training'\n",
    "    )\n",
    "\n",
    "    validation_data = train_generator.flow_from_directory(\n",
    "        train_path,\n",
    "        target_size = target_size,\n",
    "        class_mode = class_mode,\n",
    "        batch_size = TRAIN_BATCH_SIZE,\n",
    "        shuffle = val_shuffle,\n",
    "        seed = 42,\n",
    "        subset = 'validation'\n",
    "    )\n",
    "\n",
    "    test_data = test_generator.flow_from_directory(\n",
    "        test_path,\n",
    "        target_size = target_size,\n",
    "        batch_size = TEST_BATCH_SIZE,\n",
    "        shuffle = test_shuffle\n",
    "    )\n",
    "\n",
    "    train_step = train_data.n//train_data.batch_size\n",
    "    val_step = validation_data.n//validation_data.batch_size\n",
    "\n",
    "    return train_data, validation_data, test_data, train_step, val_step"
   ]
  },
  {
   "cell_type": "code",
   "execution_count": 7,
   "metadata": {
    "id": "V0Gm3gd67LMo"
   },
   "outputs": [],
   "source": [
    "def create_model(model_name, input_shape = (256, 256, 3), num_class = 3):\n",
    "    input = Input(input_shape)\n",
    "\n",
    "    if model_name == 'ResNet50':\n",
    "        base_model = ResNet50(include_top = False, weights = 'imagenet', input_shape = input_shape)\n",
    "    elif model_name == 'VGG16':\n",
    "        base_model = VGG16(include_top = False, weights = 'imagenet', input_shape = input_shape)\n",
    "    elif model_name == 'NASNetMobile':\n",
    "        base_model = NASNetMobile(include_top = False, weights = 'imagenet', input_shape = input_shape)\n",
    "\n",
    "    for layer in base_model.layers:\n",
    "        layer.trainable = False\n",
    "\n",
    "    head_model = base_model.output\n",
    "  # head_model = AveragePooling2D(pool_size=(4, 4))(head_model)\n",
    "    head_model = Flatten(name=\"flatten\")(head_model)\n",
    "    head_model = Dense(64, activation=\"relu\")(head_model)\n",
    "    head_model = LeakyReLU(alpha=0.4)(head_model)\n",
    "    head_model = Dropout(0.2)(head_model)\n",
    "    \n",
    "    if num_class > 1:\n",
    "        head_model = Dense(num_class, activation=\"softmax\")(head_model)\n",
    "    else:\n",
    "        head_model = Dense(1, activation=\"sigmoid\")(head_model)\n",
    "\n",
    "    model = Model(base_model.input, head_model)\n",
    "\n",
    "    model.summary()\n",
    "\n",
    "    return model"
   ]
  },
  {
   "cell_type": "code",
   "execution_count": 8,
   "metadata": {
    "colab": {
     "base_uri": "https://localhost:8080/"
    },
    "id": "ozTvu5TpEN8t",
    "outputId": "7eca1850-07ac-455d-da7f-3e12911e6f1d"
   },
   "outputs": [
    {
     "name": "stdout",
     "output_type": "stream",
     "text": [
      "Loading Base Model\n",
      "Metal device set to: Apple M1\n"
     ]
    },
    {
     "name": "stderr",
     "output_type": "stream",
     "text": [
      "2022-12-24 19:29:20.788955: I tensorflow/core/common_runtime/pluggable_device/pluggable_device_factory.cc:306] Could not identify NUMA node of platform GPU ID 0, defaulting to 0. Your kernel may not have been built with NUMA support.\n",
      "2022-12-24 19:29:20.789007: I tensorflow/core/common_runtime/pluggable_device/pluggable_device_factory.cc:272] Created TensorFlow device (/job:localhost/replica:0/task:0/device:GPU:0 with 0 MB memory) -> physical PluggableDevice (device: 0, name: METAL, pci bus id: <undefined>)\n"
     ]
    },
    {
     "name": "stdout",
     "output_type": "stream",
     "text": [
      "Model: \"model\"\n",
      "_________________________________________________________________\n",
      " Layer (type)                Output Shape              Param #   \n",
      "=================================================================\n",
      " input_2 (InputLayer)        [(None, 224, 224, 3)]     0         \n",
      "                                                                 \n",
      " block1_conv1 (Conv2D)       (None, 224, 224, 64)      1792      \n",
      "                                                                 \n",
      " block1_conv2 (Conv2D)       (None, 224, 224, 64)      36928     \n",
      "                                                                 \n",
      " block1_pool (MaxPooling2D)  (None, 112, 112, 64)      0         \n",
      "                                                                 \n",
      " block2_conv1 (Conv2D)       (None, 112, 112, 128)     73856     \n",
      "                                                                 \n",
      " block2_conv2 (Conv2D)       (None, 112, 112, 128)     147584    \n",
      "                                                                 \n",
      " block2_pool (MaxPooling2D)  (None, 56, 56, 128)       0         \n",
      "                                                                 \n",
      " block3_conv1 (Conv2D)       (None, 56, 56, 256)       295168    \n",
      "                                                                 \n",
      " block3_conv2 (Conv2D)       (None, 56, 56, 256)       590080    \n",
      "                                                                 \n",
      " block3_conv3 (Conv2D)       (None, 56, 56, 256)       590080    \n",
      "                                                                 \n",
      " block3_pool (MaxPooling2D)  (None, 28, 28, 256)       0         \n",
      "                                                                 \n",
      " block4_conv1 (Conv2D)       (None, 28, 28, 512)       1180160   \n",
      "                                                                 \n",
      " block4_conv2 (Conv2D)       (None, 28, 28, 512)       2359808   \n",
      "                                                                 \n",
      " block4_conv3 (Conv2D)       (None, 28, 28, 512)       2359808   \n",
      "                                                                 \n",
      " block4_pool (MaxPooling2D)  (None, 14, 14, 512)       0         \n",
      "                                                                 \n",
      " block5_conv1 (Conv2D)       (None, 14, 14, 512)       2359808   \n",
      "                                                                 \n",
      " block5_conv2 (Conv2D)       (None, 14, 14, 512)       2359808   \n",
      "                                                                 \n",
      " block5_conv3 (Conv2D)       (None, 14, 14, 512)       2359808   \n",
      "                                                                 \n",
      " block5_pool (MaxPooling2D)  (None, 7, 7, 512)         0         \n",
      "                                                                 \n",
      " flatten (Flatten)           (None, 25088)             0         \n",
      "                                                                 \n",
      " dense (Dense)               (None, 64)                1605696   \n",
      "                                                                 \n",
      " leaky_re_lu (LeakyReLU)     (None, 64)                0         \n",
      "                                                                 \n",
      " dropout (Dropout)           (None, 64)                0         \n",
      "                                                                 \n",
      " dense_1 (Dense)             (None, 3)                 195       \n",
      "                                                                 \n",
      "=================================================================\n",
      "Total params: 16,320,579\n",
      "Trainable params: 1,605,891\n",
      "Non-trainable params: 14,714,688\n",
      "_________________________________________________________________\n",
      "Model Loaded at  Timestamp: 2022-12-24 19:29:21\n"
     ]
    }
   ],
   "source": [
    "input_shape = (224, 224, 3)\n",
    "num_class = 3\n",
    "model_name = 'VGG16'\n",
    "\n",
    "print('Loading Base Model')\n",
    "\n",
    "vggnet = create_model(model_name = model_name, input_shape = input_shape, num_class = num_class)\n",
    "\n",
    "print('Model Loaded at ', timestamp(1))"
   ]
  },
  {
   "cell_type": "code",
   "execution_count": 9,
   "metadata": {
    "colab": {
     "base_uri": "https://localhost:8080/"
    },
    "id": "CHCy40EeEfc7",
    "outputId": "421a9f04-4b4f-40bc-d0f7-a7cf79208ea0"
   },
   "outputs": [
    {
     "name": "stdout",
     "output_type": "stream",
     "text": [
      "Creating and preprocessing data batches for training and testing!\n",
      "-----------------------------------------------------------------\n",
      "Found 9093 images belonging to 3 classes.\n",
      "Found 3030 images belonging to 3 classes.\n",
      "Found 3030 images belonging to 3 classes.\n"
     ]
    }
   ],
   "source": [
    "batch_size = 64\n",
    "target_size = (224, 224)\n",
    "\n",
    "train_data, val_data, test_data, train_step, val_step = create_data(train_path = train_dir, test_path = test_dir, batch_size = batch_size, \n",
    "                                                                    target_size=target_size, class_mode='categorical')"
   ]
  },
  {
   "cell_type": "code",
   "execution_count": 10,
   "metadata": {
    "colab": {
     "base_uri": "https://localhost:8080/"
    },
    "id": "iVn0yufns5j8",
    "outputId": "91625fa2-6716-48e1-85bb-928537cf533e"
   },
   "outputs": [
    {
     "name": "stdout",
     "output_type": "stream",
     "text": [
      "Compiling Model\n",
      "---------------\n"
     ]
    }
   ],
   "source": [
    "EPOCHS = 10\n",
    "ILR = 0.001\n",
    "VERBOSE = 1\n",
    "\n",
    "optimizer = Adam(learning_rate = ILR)\n",
    "loss = 'categorical_crossentropy'\n",
    "metrics = ['accuracy']\n",
    "\n",
    "print('Compiling Model')\n",
    "print('-' * 15)\n",
    "\n",
    "vggnet.compile(optimizer = optimizer, loss = loss, metrics = metrics)"
   ]
  },
  {
   "cell_type": "code",
   "execution_count": 11,
   "metadata": {
    "colab": {
     "base_uri": "https://localhost:8080/"
    },
    "id": "q-zefVX4yOQ1",
    "outputId": "889bdb7f-96a8-4bb1-d6ec-a13b4a8b1778"
   },
   "outputs": [
    {
     "name": "stderr",
     "output_type": "stream",
     "text": [
      "2022-12-24 19:29:44.633335: W tensorflow/tsl/platform/profile_utils/cpu_utils.cc:128] Failed to get CPU frequency: 0 Hz\n",
      "2022-12-24 19:29:44.799431: I tensorflow/core/grappler/optimizers/custom_graph_optimizer_registry.cc:114] Plugin optimizer for device_type GPU is enabled.\n"
     ]
    },
    {
     "name": "stdout",
     "output_type": "stream",
     "text": [
      "48/48 [==============================] - 105s 2s/step - loss: 0.9664 - accuracy: 0.6670\n",
      "Initial Loss: 0.97 Initial Accuracy: 0.67\n"
     ]
    }
   ],
   "source": [
    "loss0, accuracy0 = vggnet.evaluate(val_data)\n",
    "\n",
    "print(f'Initial Loss: {loss0:.2f} Initial Accuracy: {accuracy0:.2f}')"
   ]
  },
  {
   "cell_type": "code",
   "execution_count": 12,
   "metadata": {},
   "outputs": [],
   "source": [
    "dir_name = 'Model Checkpoint'\n",
    "file_path = os.path.join(os.getcwd(), dir_name)\n",
    "\n",
    "if not os.path.exists(file_path):\n",
    "    print('Directory does not exist. Making it now!')\n",
    "    os.mkdir(file_path)"
   ]
  },
  {
   "cell_type": "code",
   "execution_count": 13,
   "metadata": {},
   "outputs": [],
   "source": [
    "def scheduler(epoch, lr = ILR):\n",
    "    \n",
    "    if epoch % 3 == 0:\n",
    "        return lr * 0.9\n",
    "    else:\n",
    "        return lr\n",
    "    \n",
    "def set_callbacks(verbose = 0):\n",
    "    \n",
    "    model_checkpoint = ModelCheckpoint(filepath = file_path,\n",
    "                                       monitor = 'val_accuracy',\n",
    "                                       verbose = 0,\n",
    "                                       save_best_only = True)\n",
    "    \n",
    "    early_stopping = EarlyStopping(monitor = 'val_loss',\n",
    "                                   patience = 2,\n",
    "                                   verbose = verbose,\n",
    "                                   restore_best_weights = True)\n",
    "    \n",
    "    learn_scheduler = LearningRateScheduler(scheduler,\n",
    "                                            verbose = verbose)\n",
    "    \n",
    "    callbacks = [model_checkpoint, learn_scheduler, early_stopping]\n",
    "    \n",
    "    print('Setting Callbacks...')\n",
    "    \n",
    "    return callbacks"
   ]
  },
  {
   "cell_type": "code",
   "execution_count": 15,
   "metadata": {
    "colab": {
     "base_uri": "https://localhost:8080/",
     "height": 478
    },
    "id": "6M23XMhFwI2q",
    "outputId": "3146f2b8-d2c9-4443-fa87-a61499f4490b"
   },
   "outputs": [
    {
     "name": "stdout",
     "output_type": "stream",
     "text": [
      "Setting Callbacks...\n",
      "Starting Training ...\n",
      "\n",
      "\n",
      "Epoch 1: LearningRateScheduler setting learning rate to 0.0009000000427477062.\n",
      "Epoch 1/10\n",
      "142/142 [==============================] - ETA: 0s - loss: 0.4776 - accuracy: 0.7829"
     ]
    },
    {
     "name": "stderr",
     "output_type": "stream",
     "text": [
      "WARNING:absl:Found untraced functions such as _jit_compiled_convolution_op, _jit_compiled_convolution_op, _jit_compiled_convolution_op, _jit_compiled_convolution_op, _jit_compiled_convolution_op while saving (showing 5 of 13). These functions will not be directly callable after loading.\n"
     ]
    },
    {
     "name": "stdout",
     "output_type": "stream",
     "text": [
      "INFO:tensorflow:Assets written to: /Users/anuragkotiyal/Desktop/Projects/COVID Detection/Model Checkpoint/assets\n"
     ]
    },
    {
     "name": "stderr",
     "output_type": "stream",
     "text": [
      "INFO:tensorflow:Assets written to: /Users/anuragkotiyal/Desktop/Projects/COVID Detection/Model Checkpoint/assets\n"
     ]
    },
    {
     "name": "stdout",
     "output_type": "stream",
     "text": [
      "142/142 [==============================] - 400s 3s/step - loss: 0.4776 - accuracy: 0.7829 - val_loss: 0.3571 - val_accuracy: 0.9086 - lr: 9.0000e-04\n",
      "\n",
      "Epoch 2: LearningRateScheduler setting learning rate to 0.0009000000427477062.\n",
      "Epoch 2/10\n",
      "142/142 [==============================] - 398s 3s/step - loss: 0.4509 - accuracy: 0.7931 - val_loss: 0.3253 - val_accuracy: 0.9086 - lr: 9.0000e-04\n",
      "\n",
      "Epoch 3: LearningRateScheduler setting learning rate to 0.0009000000427477062.\n",
      "Epoch 3/10\n",
      "142/142 [==============================] - 396s 3s/step - loss: 0.4142 - accuracy: 0.8125 - val_loss: 0.2719 - val_accuracy: 0.8983 - lr: 9.0000e-04\n",
      "\n",
      "Epoch 4: LearningRateScheduler setting learning rate to 0.0008100000384729356.\n",
      "Epoch 4/10\n",
      "142/142 [==============================] - ETA: 0s - loss: 0.3765 - accuracy: 0.8414"
     ]
    },
    {
     "name": "stderr",
     "output_type": "stream",
     "text": [
      "WARNING:absl:Found untraced functions such as _jit_compiled_convolution_op, _jit_compiled_convolution_op, _jit_compiled_convolution_op, _jit_compiled_convolution_op, _jit_compiled_convolution_op while saving (showing 5 of 13). These functions will not be directly callable after loading.\n"
     ]
    },
    {
     "name": "stdout",
     "output_type": "stream",
     "text": [
      "INFO:tensorflow:Assets written to: /Users/anuragkotiyal/Desktop/Projects/COVID Detection/Model Checkpoint/assets\n"
     ]
    },
    {
     "name": "stderr",
     "output_type": "stream",
     "text": [
      "INFO:tensorflow:Assets written to: /Users/anuragkotiyal/Desktop/Projects/COVID Detection/Model Checkpoint/assets\n"
     ]
    },
    {
     "name": "stdout",
     "output_type": "stream",
     "text": [
      "142/142 [==============================] - 402s 3s/step - loss: 0.3765 - accuracy: 0.8414 - val_loss: 0.2279 - val_accuracy: 0.9348 - lr: 8.1000e-04\n",
      "\n",
      "Epoch 5: LearningRateScheduler setting learning rate to 0.0008100000559352338.\n",
      "Epoch 5/10\n",
      "142/142 [==============================] - 402s 3s/step - loss: 0.3677 - accuracy: 0.8452 - val_loss: 0.2233 - val_accuracy: 0.9312 - lr: 8.1000e-04\n",
      "\n",
      "Epoch 6: LearningRateScheduler setting learning rate to 0.0008100000559352338.\n",
      "Epoch 6/10\n",
      "142/142 [==============================] - ETA: 0s - loss: 0.3892 - accuracy: 0.8279"
     ]
    },
    {
     "name": "stderr",
     "output_type": "stream",
     "text": [
      "WARNING:absl:Found untraced functions such as _jit_compiled_convolution_op, _jit_compiled_convolution_op, _jit_compiled_convolution_op, _jit_compiled_convolution_op, _jit_compiled_convolution_op while saving (showing 5 of 13). These functions will not be directly callable after loading.\n"
     ]
    },
    {
     "name": "stdout",
     "output_type": "stream",
     "text": [
      "INFO:tensorflow:Assets written to: /Users/anuragkotiyal/Desktop/Projects/COVID Detection/Model Checkpoint/assets\n"
     ]
    },
    {
     "name": "stderr",
     "output_type": "stream",
     "text": [
      "INFO:tensorflow:Assets written to: /Users/anuragkotiyal/Desktop/Projects/COVID Detection/Model Checkpoint/assets\n"
     ]
    },
    {
     "name": "stdout",
     "output_type": "stream",
     "text": [
      "142/142 [==============================] - 398s 3s/step - loss: 0.3892 - accuracy: 0.8279 - val_loss: 0.2035 - val_accuracy: 0.9481 - lr: 8.1000e-04\n",
      "\n",
      "Epoch 7: LearningRateScheduler setting learning rate to 0.0007290000503417104.\n",
      "Epoch 7/10\n",
      "142/142 [==============================] - 409s 3s/step - loss: 0.3573 - accuracy: 0.8390 - val_loss: 0.1988 - val_accuracy: 0.9425 - lr: 7.2900e-04\n",
      "\n",
      "Epoch 8: LearningRateScheduler setting learning rate to 0.0007290000794455409.\n",
      "Epoch 8/10\n",
      "142/142 [==============================] - 398s 3s/step - loss: 0.3491 - accuracy: 0.8488 - val_loss: 0.2141 - val_accuracy: 0.9418 - lr: 7.2900e-04\n",
      "\n",
      "Epoch 9: LearningRateScheduler setting learning rate to 0.0007290000794455409.\n",
      "Epoch 9/10\n",
      "142/142 [==============================] - 435s 3s/step - loss: 0.3337 - accuracy: 0.8485 - val_loss: 0.1859 - val_accuracy: 0.9395 - lr: 7.2900e-04\n",
      "\n",
      "Epoch 10: LearningRateScheduler setting learning rate to 0.0006561000715009868.\n",
      "Epoch 10/10\n",
      "142/142 [==============================] - 421s 3s/step - loss: 0.3274 - accuracy: 0.8527 - val_loss: 0.1913 - val_accuracy: 0.9428 - lr: 6.5610e-04\n",
      "\n",
      "Elapsed Time: 01:07:39\n",
      "Completed Model Trainning Timestamp: 2022-12-24 20:44:11\n"
     ]
    }
   ],
   "source": [
    "callbacks = set_callbacks(verbose = 1)\n",
    "\n",
    "print(\"Starting Training ...\\n\")\n",
    "\n",
    "start_time = time.time()\n",
    "\n",
    "history = vggnet.fit(\n",
    "    train_data,\n",
    "    steps_per_epoch=train_step,\n",
    "    epochs = EPOCHS,\n",
    "    verbose = VERBOSE,\n",
    "    callbacks = callbacks,\n",
    "    validation_data = val_data,\n",
    "    validation_steps = val_step\n",
    ")\n",
    "\n",
    "elapsed_time = time.time() - start_time\n",
    "elapsed_time = time.strftime(\"%H:%M:%S\", time.gmtime(elapsed_time))\n",
    "\n",
    "print(\"\\nElapsed Time: \" + elapsed_time)\n",
    "print(\"Completed Model Trainning\", timestamp(1))"
   ]
  },
  {
   "cell_type": "code",
   "execution_count": 16,
   "metadata": {
    "colab": {
     "base_uri": "https://localhost:8080/"
    },
    "id": "pycC38NtzpFh",
    "outputId": "f1c07344-c311-49da-f2f0-8a103b254d59"
   },
   "outputs": [
    {
     "name": "stdout",
     "output_type": "stream",
     "text": [
      "Final Loss: 37.14 Final Accuracy: 0.71\n"
     ]
    }
   ],
   "source": [
    "loss, accuracy = vggnet.evaluate(test_data, verbose = 0)\n",
    "\n",
    "print(f'Final Loss: {loss:.2f} Final Accuracy: {accuracy:.2f}')"
   ]
  },
  {
   "cell_type": "code",
   "execution_count": 19,
   "metadata": {
    "id": "ZQZTAzq94mEv"
   },
   "outputs": [],
   "source": [
    "def performance_plot(history = None):\n",
    "  \n",
    "    legends = ['training', 'validation']\n",
    "    plt.figure(figsize=(20, 5))\n",
    "\n",
    "    y1 = history.history['accuracy']\n",
    "    y2 = history.history['val_accuracy']\n",
    "  \n",
    "    plt.subplot(121)\n",
    "    plt.plot(y1)\n",
    "    plt.plot(y2)\n",
    "\n",
    "    plt.title('VGGNET Accuracy\\n' + timestamp(1), fontsize=18)\n",
    "    plt.xlabel('Epochs', fontsize=15)\n",
    "    plt.ylabel('Accuracy', fontsize=15)\n",
    "    plt.legend(legends, loc='upper left')\n",
    "    plt.grid()\n",
    "\n",
    "    y1 = history.history['loss']\n",
    "    y2 = history.history['val_loss']\n",
    "\n",
    "    plt.subplot(122)\n",
    "    plt.plot(y1)\n",
    "    plt.plot(y2)\n",
    "\n",
    "    plt.title('VGGNET Loss\\n' + timestamp(1), fontsize=18)\n",
    "    plt.xlabel('Epochs', fontsize=15)\n",
    "    plt.ylabel('Loss', fontsize=15)\n",
    "    plt.legend(legends, loc='upper left')\n",
    "    plt.grid()\n",
    "\n",
    "    #plt.savefig('plot.png')\n",
    "\n",
    "    plt.show()"
   ]
  },
  {
   "cell_type": "code",
   "execution_count": 20,
   "metadata": {},
   "outputs": [
    {
     "data": {
      "image/png": "[encoded data removed]",
      "text/plain": [
       "<Figure size 2000x500 with 2 Axes>"
      ]
     },
     "metadata": {},
     "output_type": "display_data"
    }
   ],
   "source": [
    "performance_plot(history = history)"
   ]
  },
  {
   "cell_type": "code",
   "execution_count": 82,
   "metadata": {},
   "outputs": [
    {
     "name": "stdout",
     "output_type": "stream",
     "text": [
      "48/48 [==============================] - 57s 1s/step - loss: 2.8686 - accuracy: 0.6726\n",
      "Final Loss: 2.87 Final Accuracy: 0.67\n"
     ]
    }
   ],
   "source": [
    "loss, accuracy = vggnet.evaluate(test_data)\n",
    "\n",
    "print(f'Final Loss: {loss:.2f} Final Accuracy: {accuracy:.2f}')"
   ]
  }
 ],
 "metadata": {
  "accelerator": "GPU",
  "colab": {
   "provenance": []
  },
  "gpuClass": "standard",
  "kernelspec": {
   "display_name": "Python 3.9 (tensorflow)",
   "language": "python",
   "name": "tensorflow"
  },
  "language_info": {
   "codemirror_mode": {
    "name": "ipython",
    "version": 3
   },
   "file_extension": ".py",
   "mimetype": "text/x-python",
   "name": "python",
   "nbconvert_exporter": "python",
   "pygments_lexer": "ipython3",
   "version": "3.9.15"
  }
 },
 "nbformat": 4,
 "nbformat_minor": 1
}
